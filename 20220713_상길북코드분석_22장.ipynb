{
 "cells": [
  {
   "cell_type": "code",
   "execution_count": null,
   "metadata": {},
   "outputs": [],
   "source": [
    "# 83번 과반수 엘리먼트(리트코드 169번)\n",
    "\n",
    "class Solution:\n",
    "    def majorityElement(self, nums: List[int]) -> int:\n",
    "        # nums 리스트 안에 들어 있지 않을 때 None 값 반환\n",
    "        if not nums:\n",
    "            return None\n",
    "        # nums 리스트의 길이가 1일 때 리스트의 첫번째 값 반환\n",
    "        if len(nums) == 1:\n",
    "            return nums[0]\n",
    "        \n",
    "        # nums 리스트의 길이를 절반으로 나눈 값 half 설정\n",
    "        half = len(nums) // 2\n",
    "        # half를 기준으로 a, b 값 지정\n",
    "        a = self.majorityElement(nums[:half])\n",
    "        b = self.majorityElement(nums[half:])\n",
    "        \n",
    "        # 정복에 해당하는 값 반환\n",
    "        return [b, a][nums.count(a) > half]"
   ]
  },
  {
   "cell_type": "code",
   "execution_count": null,
   "metadata": {},
   "outputs": [],
   "source": [
    "# 84번 괄호를 삽입하는 여러 가지 방법(리트코드 241번)\n",
    "\n",
    "from typing import List\n",
    "\n",
    "\n",
    "class Solution:\n",
    "    def diffWaysToCompute(self, input: str) -> List[int]:\n",
    "        # compute 함수 설정\n",
    "        def compute(left, right, op):\n",
    "            # results 초기값 설정\n",
    "            results = []\n",
    "            # left 안의 값 l과 right 안의 값 r과 op 더한 값 results에 추가\n",
    "            for l in left:\n",
    "                for r in right:\n",
    "                    results.append(eval(str(l) + op + str(r)))\n",
    "            # results 값 반환\n",
    "            return results\n",
    "        \n",
    "        # input이 숫자형일 때 반환\n",
    "        if input.isdigit():\n",
    "            return [int(input)]\n",
    "\n",
    "        # 본 계산 진행\n",
    "        results = []\n",
    "        # index, value 값이 input에 있을 때 left 값 및 right 값 지정\n",
    "        for index, value in enumerate(input):\n",
    "            if value in \"-+*\":\n",
    "                left = self.diffWaysToCompute(input[:index])\n",
    "                right = self.diffWaysToCompute(input[index + 1:])\n",
    "                \n",
    "                # 최종 결과값 확장\n",
    "                results.extend(compute(left, right, value))\n",
    "        # 결과값 반환\n",
    "        return results"
   ]
  }
 ],
 "metadata": {
  "kernelspec": {
   "display_name": "Python 3",
   "language": "python",
   "name": "python3"
  },
  "language_info": {
   "codemirror_mode": {
    "name": "ipython",
    "version": 3
   },
   "file_extension": ".py",
   "mimetype": "text/x-python",
   "name": "python",
   "nbconvert_exporter": "python",
   "pygments_lexer": "ipython3",
   "version": "3.8.5"
  }
 },
 "nbformat": 4,
 "nbformat_minor": 4
}
